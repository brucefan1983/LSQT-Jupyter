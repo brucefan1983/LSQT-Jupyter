{
 "cells": [
  {
   "cell_type": "markdown",
   "metadata": {},
   "source": [
    "# LSQT-Jupyter"
   ]
  },
  {
   "cell_type": "markdown",
   "metadata": {},
   "source": [
    "## 1. Reference\n",
    "* This is a tutorial accompanying the following review paper:\n",
    "\n",
    "* Zheyong Fan, Jose Hugo Garcia, Aron W Cummings, Jose-Eduardo Barrios, Michel Panhans, Ari Harju, Frank Ortmann, and Stephan Roche, Linear Scaling Quantum Transport Methodologies, submitted to Reviews of Modern Physics. https://arxiv.org/abs/1811.07387"
   ]
  },
  {
   "cell_type": "markdown",
   "metadata": {},
   "source": [
    "## 2. Unit system (We are working in 2D)\n",
    "* Basic units:\n",
    " * Reduced Planck constant $\\hbar$ = 1\n",
    " * Elementary charge $e$ = 1\n",
    " * Energy unit $\\gamma=1$ is the hopping integral\n",
    " * Length unit $a=1$ is the lattice constant\n",
    "* Derived units:\n",
    " * Time: $\\hbar/\\gamma$\n",
    " * Density of states (DOS) in 2D: $1/\\gamma/a^2$\n",
    " * Velocity autocorrelation (VAC): $a^2\\gamma^2/\\hbar^2$\n",
    " * Velocity: $a\\gamma/\\hbar$\n",
    " * Mean square displacement (MSD): $a^2$\n",
    " * Electrical conductivity in 2D: $e^2/\\hbar$\n",
    " * Electrical conductance: $e^2/\\hbar$"
   ]
  },
  {
   "cell_type": "markdown",
   "metadata": {},
   "source": [
    "## 3. Import the needed Python packages"
   ]
  },
  {
   "cell_type": "code",
   "execution_count": 1,
   "metadata": {
    "collapsed": true
   },
   "outputs": [],
   "source": [
    "import numpy as np              # used frequently\n",
    "import matplotlib.pyplot as plt # used for plotting\n",
    "from scipy import sparse        # crucial for performance\n",
    "from scipy import special       # for Bessel function"
   ]
  },
  {
   "cell_type": "markdown",
   "metadata": {},
   "source": [
    "## 4. Construct the tight-binding model\n",
    "* We consdier the nearest-neighbor tight-bindng model defined on a square lattice with lattice constant $a$ and dimensions $N=N_x\\times N_y$.\n",
    "* The Hamiltonian can be written as\n",
    "$$\n",
    "\\hat{H} = \\sum_{ij} (-\\gamma) c_i^{\\dagger} c_j + \\sum_i U_i c_i^{\\dagger} c_i,\n",
    "$$\n",
    "where $-\\gamma$ is the hopping integral and $U_i$ are the on-site potentials. The on-site potentials are uniformly distributed in an interval $[-W/2, W/2]$, where $W$ is the Anderson disorder strength. For simplicity, we consider open boundary conditions in the $y$ direction and study the transorpt in the $x$ direction."
   ]
  },
  {
   "cell_type": "markdown",
   "metadata": {},
   "source": [
    "### 4.1. Define an indexing scheme\n",
    "* The purpose is to map the 2D indices in the lattice into 1D indices\n",
    "* The 1D indices will be used for the Hamiltonian, velocity operator, and various vectors.\n",
    "* This only requires a simple function shown below:"
   ]
  },
  {
   "cell_type": "code",
   "execution_count": 2,
   "metadata": {
    "collapsed": true
   },
   "outputs": [],
   "source": [
    "def find_index(nx, ny, Ny):\n",
    "    index = nx * Ny + ny\n",
    "    return index"
   ]
  },
  {
   "cell_type": "markdown",
   "metadata": {},
   "source": [
    "### 4.2. Define the function for creating the sparse Hamiltonian and velocity operator\n",
    "* We consider square lattice with $N_x \\times N_y$ lattice sites.\n",
    "* Use periodic boundary conditions in the $x$ direction.\n",
    "* Use open boundary conditions in the $y$ direction.\n",
    "* Assume the transport is in the $x$ direction.\n",
    "* The hopping integral $\\gamma=1$ defines the energy units.\n",
    "* The lattice constant $a=1$ defines the length units.\n",
    "* Anderson disorder strength is $W$, which means that random on-site potentials are uniformly chosen from $[-W/2, W/2]$. $W$ is in units of $\\gamma$."
   ]
  },
  {
   "cell_type": "code",
   "execution_count": 3,
   "metadata": {
    "collapsed": true
   },
   "outputs": [],
   "source": [
    "def find_H(Nx, Ny, W):\n",
    "    N = Nx * Ny; # total number of sites\n",
    "    row_H = np.zeros(N * 4 - Nx * 2) # the row indices for H\n",
    "    col_H = np.zeros(N * 4 - Nx * 2) # the column indices for H\n",
    "    Hij = -np.ones(N * 4 - Nx * 2, complex) # nonzero Hamiltonian elements\n",
    "    row_V = np.zeros(N * 2) # row indices for V\n",
    "    col_V = np.zeros(N * 2) # column indices for V\n",
    "    Vij = np.zeros(N * 2, complex) # nonzero velocity matrix elements\n",
    "    row_U = np.arange(0, N) # row and column indices for U\n",
    "    Uij = np.random.uniform(-W * 0.5, W * 0.5, N) # on-site potentials\n",
    "    count_H = 0 # number of nonzero H elements\n",
    "    count_V = 0 # number of nonzero V elements\n",
    "    for nx in range(Nx):\n",
    "        for ny in range(Ny):\n",
    "            # (0) # get the index of the center site\n",
    "            index_center = find_index(nx, ny, Ny)\n",
    "            # (1) consider the left neighbor (periodic boundary)\n",
    "            index_left = find_index((nx - 1) % Nx, ny, Ny)\n",
    "            row_H[count_H] = index_center\n",
    "            col_H[count_H] = index_left\n",
    "            count_H += 1\n",
    "            row_V[count_V] = index_center\n",
    "            col_V[count_V] = index_left\n",
    "            Vij[count_V] = 1j\n",
    "            count_V += 1\n",
    "            # (2) consider the right neighbor (periodic boundary)\n",
    "            index_right = find_index((nx + 1) % Nx, ny, Ny)\n",
    "            row_H[count_H] = index_center\n",
    "            col_H[count_H] = index_right\n",
    "            count_H += 1\n",
    "            row_V[count_V] = index_center\n",
    "            col_V[count_V] = index_right\n",
    "            Vij[count_V] = -1j\n",
    "            count_V += 1\n",
    "            # (3) consider the upper neighbor (open boundary)\n",
    "            if ny < Ny - 1:\n",
    "                index_up = find_index(nx, (ny + 1), Ny)\n",
    "                row_H[count_H] = index_center\n",
    "                col_H[count_H] = index_up\n",
    "                count_H += 1\n",
    "            # (4) consider the down neighbor (open boundary)\n",
    "            if ny > 0:\n",
    "                index_down = find_index(nx, (ny - 1), Ny)\n",
    "                row_H[count_H] = index_center\n",
    "                col_H[count_H] = index_down\n",
    "                count_H += 1\n",
    "    H = sparse.csr_matrix((Hij, (row_H, col_H)), shape = (N, N))\n",
    "    U = sparse.csr_matrix((Uij, (row_U, row_U)), shape = (N, N))\n",
    "    H = H + U\n",
    "    V = sparse.csr_matrix((Vij, (row_V, col_V)), shape = (N, N))\n",
    "    return (H, V)"
   ]
  },
  {
   "cell_type": "markdown",
   "metadata": {},
   "source": [
    "## 5. Create a random state\n",
    "* In all the LSQT methods, the first crucial step is to use random vector approximation for evaluating the trace of a matrix:\n",
    "$$\n",
    "Tr[A] \\approx N \\langle \\phi| A | \\phi \\rangle,\n",
    "$$\n",
    "where the random vector is normalized to 1:\n",
    "$$\n",
    "\\langle \\phi| \\phi \\rangle = 1.\n",
    "$$\n",
    "* We use random phase vector $| \\phi \\rangle$, whose elements can be written as $e^{i\\theta}=\\cos(\\theta)+i\\sin(\\theta)$, where $\\theta$ is a random number within $[0, 2\\pi]$."
   ]
  },
  {
   "cell_type": "code",
   "execution_count": 4,
   "metadata": {
    "collapsed": true
   },
   "outputs": [],
   "source": [
    "def create_state(N):\n",
    "    random_phase = np.random.uniform(0, 2 * np.pi, N)\n",
    "    phi = np.cos(random_phase) + np.sin(random_phase) * 1j; \n",
    "    phi /= np.linalg.norm(phi);\n",
    "    return phi"
   ]
  },
  {
   "cell_type": "markdown",
   "metadata": {},
   "source": [
    "## 6. Calculate the Chebyshev moments\n",
    "* We use the kernal polynomial method (KPM) to deal with the quantum projection operator. In this method, we need to first calculate the Chebyshev moments.\n",
    "* The chebyshev moments $C_m$ of the DOS, VAC, and MSD can be uniformly expresseed as\n",
    "$$\n",
    "C_m = \\langle \\phi_L| T_m(\\tilde{H}) | \\phi_R \\rangle,\n",
    "$$\n",
    "where $\\tilde{H}$ is the scaled Hamiltonian and $T_m$ is the $m$-th order Chebyshev polynomial of the first kind.\n",
    "* The differences between the above three quantities are reflected by the different left and right vectors, $\\phi_L$ and $\\phi_R$. See Eqs. (93), (101), and (103) in the review paper.\n",
    "* In the following implementation, I follow Algorithm 4 in the review paper."
   ]
  },
  {
   "cell_type": "code",
   "execution_count": 5,
   "metadata": {
    "collapsed": true
   },
   "outputs": [],
   "source": [
    "def find_moments(M, H_scaled, phi_left, phi_right):  \n",
    "    C = np.zeros(M)\n",
    "    phi_0 = phi_right\n",
    "    C[0] = np.vdot(phi_left, phi_0).real\n",
    "    phi_1 = H_scaled.dot(phi_0)\n",
    "    C[1] = np.vdot(phi_left, phi_1).real\n",
    "    for m in range(2, M):\n",
    "        phi_2 = 2.0 * H_scaled.dot(phi_1) - phi_0\n",
    "        C[m] = np.vdot(phi_left, phi_2).real\n",
    "        phi_0 = phi_1\n",
    "        phi_1 = phi_2\n",
    "    return C"
   ]
  },
  {
   "cell_type": "markdown",
   "metadata": {},
   "source": [
    "## 7. Calculate the Chebyshev summation\n",
    "1. The chebyshev summation gives the final results:\n",
    "  * DOS: Equation (94) in the review paper\n",
    "  * DOS times VAC: Equation (100) in the review paper\n",
    "  * DOS times MSD: Equation (102) in the review paper"
   ]
  },
  {
   "cell_type": "markdown",
   "metadata": {},
   "source": [
    "### 7.1. The damping factor\n",
    "* We only consider the Jackson damping factor.\n",
    "* One can compare the figure to that in Fig. 3 of the review paper."
   ]
  },
  {
   "cell_type": "code",
   "execution_count": 6,
   "metadata": {
    "collapsed": true
   },
   "outputs": [],
   "source": [
    "def jackson_damping(M):\n",
    "    m = np.arange(M)\n",
    "    a = 1.0 / (M + 1.0)\n",
    "    g = (1.0 - m * a) * np.cos(np.pi * m * a)\n",
    "    g += a * np.sin(np.pi * m * a) / np.tan(np.pi * a)\n",
    "    return g"
   ]
  },
  {
   "cell_type": "code",
   "execution_count": 7,
   "metadata": {},
   "outputs": [
    {
     "data": {
      "image/png": "[encoded data removed]",
      "text/plain": [
       "<Figure size 432x288 with 1 Axes>"
      ]
     },
     "metadata": {
      "needs_background": "light"
     },
     "output_type": "display_data"
    }
   ],
   "source": [
    "M = 10000\n",
    "plt.plot(np.arange(M), jackson_damping(M))\n",
    "plt.xlabel('m')\n",
    "plt.ylabel('g')\n",
    "plt.show()"
   ]
  },
  {
   "cell_type": "markdown",
   "metadata": {},
   "source": [
    "### 7.2. Calculate the Chebyshev summation\n",
    "* Check Eqs. (94), (100), and (102) in the review paper."
   ]
  },
  {
   "cell_type": "code",
   "execution_count": 8,
   "metadata": {
    "collapsed": true
   },
   "outputs": [],
   "source": [
    "def chebyshev_summation(M, C, E_scaled, E_max):\n",
    "    g = jackson_damping(M) # get the damping factor\n",
    "    C *= g                 # apply the damping factor\n",
    "    Ne = E_scaled.size     # number of energy points\n",
    "    T0 = np.ones(Ne)\n",
    "    T1 = E_scaled\n",
    "    s = C[1] * T1\n",
    "    for m in range(2, M):\n",
    "        T2 = 2.0 * E_scaled * T1 - T0\n",
    "        T0 = T1\n",
    "        T1 = T2\n",
    "        s += C[m] * T2\n",
    "    s *= 2.0\n",
    "    s += C[0] * np.ones(Ne)\n",
    "    s *= 2.0 / (np.pi * np.sqrt(1.0 - E_scaled * E_scaled) * E_max)\n",
    "    return s"
   ]
  },
  {
   "cell_type": "markdown",
   "metadata": {},
   "source": [
    "## 8. DOS (density of states)\n",
    "* Check Eq. (94) in the review paper for the expression of the DOS $\\rho(E)$.\n",
    "* I first calculate $C_m^{\\rm DOS}$ ($m=0$ to $M-1$) in this equation.\n",
    "* Then I do the Chebyshev summation to get the DOS.\n",
    "* Note that the volume is the same as the number of sites in value: $\\Omega=Na^2=N$."
   ]
  },
  {
   "cell_type": "code",
   "execution_count": 9,
   "metadata": {
    "collapsed": true
   },
   "outputs": [],
   "source": [
    "def find_dos(M, E_max, E_scaled, H_scaled, phi):\n",
    "    C = find_moments(M, H_scaled, phi, phi)\n",
    "    DOS = chebyshev_summation(M, C, E_scaled, E_max)\n",
    "    return DOS"
   ]
  },
  {
   "cell_type": "markdown",
   "metadata": {},
   "source": [
    "## 9. Time evolution\n",
    "* To calculate transport properties (VAC, MSD), we need to consider time evolution\n",
    "* For the time evolution operator $\\hat{U}(\\pm \\Delta t)$, see Eqs. (73) and (74) in the review paper.\n",
    "* For the time evolution operator $[X, \\hat{U}(\\Delta t)]$, see Eqs. (75) and (76) in the review paper."
   ]
  },
  {
   "cell_type": "markdown",
   "metadata": {},
   "source": [
    "### 9.1. Evaluating $|\\phi_{\\rm out}\\rangle = \\hat{U}(\\pm \\Delta t) |\\phi_{\\rm in}\\rangle$\n",
    "* The implementation below follows Algorithm 1 in the review paper.\n",
    "* For the Bessel function of the first kind, I use the `scipy.special.jv()` function."
   ]
  },
  {
   "cell_type": "code",
   "execution_count": 10,
   "metadata": {
    "collapsed": true
   },
   "outputs": [],
   "source": [
    "def evolve(H_scaled, dt_scaled, sign, phi_i):\n",
    "    phi_0 = phi_i\n",
    "    phi_1 = H_scaled.dot(phi_i)\n",
    "    j0 = special.jv(0, dt_scaled)\n",
    "    j1 = special.jv(1, dt_scaled)\n",
    "    phi_o = j0 * phi_0 + 2.0 * (-1j * sign) * j1 * phi_1\n",
    "    m = 2\n",
    "    while True:\n",
    "        jm = special.jv(m, dt_scaled)\n",
    "        if abs(jm) < 1.0e-15:\n",
    "            break\n",
    "        phi_2 = 2.0 * H_scaled.dot(phi_1) - phi_0\n",
    "        phi_o += 2.0 * (-1j * sign) ** m * jm * phi_2\n",
    "        phi_0 = phi_1\n",
    "        phi_1 = phi_2\n",
    "        m += 1\n",
    "    return phi_o\n"
   ]
  },
  {
   "cell_type": "markdown",
   "metadata": {},
   "source": [
    "### 9.2. Evaluating $|\\phi_{\\rm out}\\rangle = [X, \\hat{U}(\\Delta t)] |\\phi_{\\rm in}\\rangle$\n",
    "* The implementation below follows Algorithm 2 in the review paper.\n",
    "* Note that $[\\hat{X}, \\tilde{H}] = i\\tilde{V}$, where $\\tilde{H}=\\hat{H}/E_{\\rm max}$ and $\\tilde{V}=\\hat{V}/E_{\\rm max}$."
   ]
  },
  {
   "cell_type": "code",
   "execution_count": 11,
   "metadata": {
    "collapsed": true
   },
   "outputs": [],
   "source": [
    "def evolvex(H_scaled, V_scaled, dt_scaled, phi_i):\n",
    "    phi_0 = phi_i\n",
    "    phix_0 = phi_i * 0.0\n",
    "    phi_1 = H_scaled.dot(phi_0)\n",
    "    phix_1 = 1j * V_scaled.dot(phi_0)\n",
    "    phi_o = (-2.0j) * special.jv(1, dt_scaled) * phix_1\n",
    "    m = 2\n",
    "    while True:\n",
    "        jm = special.jv(m, dt_scaled)\n",
    "        if abs(jm) < 1.0e-15:\n",
    "            break\n",
    "        phi_2 = 2.0 * H_scaled.dot(phi_1) - phi_0\n",
    "        phix_2 = 2.0j * V_scaled.dot(phi_1)\n",
    "        phix_2 += 2.0 * H_scaled.dot(phix_1) - phix_0\n",
    "        phi_o += 2.0 * (-1j) ** m * jm * phix_2\n",
    "        phi_0 = phi_1 \n",
    "        phi_1 = phi_2\n",
    "        phix_0 = phix_1\n",
    "        phix_1 = phix_2\n",
    "        m += 1\n",
    "    return phi_o"
   ]
  },
  {
   "cell_type": "markdown",
   "metadata": {},
   "source": [
    "## 10. VAC and related quantites\n",
    "* Check Eqs. (100) and (101) for the expression for the product of the DOS $\\rho(E)$ and VAC $C_{vv}(E,t)$.\n",
    "* The VAC is calculated as $C_{vv}(E,t)=\\rho(E)C_{vv}(E,t)/\\rho(E)$.\n",
    "* The time dependent electrical conductivity is calculated as in Eq. (42) of the review paper:\n",
    "$$\n",
    "\\sigma(E,t) = e^2 \\rho(E) \\int_0^t dt C_{vv}(E,t).\n",
    "$$\n",
    "* The function below returns both $C_{vv}(E,t)$ and $\\sigma(E,t)$."
   ]
  },
  {
   "cell_type": "code",
   "execution_count": 12,
   "metadata": {
    "collapsed": true
   },
   "outputs": [],
   "source": [
    "def find_vac(M, E_max, dt_scaled, E_scaled, H_scaled, V, phi, DOS):\n",
    "    Ne = E_scaled.size  # number of energy points\n",
    "    Nt = dt_scaled.size # number of time steps\n",
    "    dt = dt_scaled / E_max\n",
    "    phi_left = phi\n",
    "    phi_right = V.dot(phi)\n",
    "    DOS_times_VAC_old = np.zeros(Ne)\n",
    "    DOS_times_VAC_new = np.zeros(Ne)\n",
    "    VAC = np.zeros((Nt, Ne))\n",
    "    sigma_from_VAC = np.zeros((Nt, Ne))\n",
    "    for nt in range(Nt):\n",
    "        C = find_moments(M, H_scaled, V.dot(phi_left), phi_right)\n",
    "        DOS_times_VAC_new = chebyshev_summation(M, C, E_scaled, E_max)\n",
    "        VAC[nt, :] = DOS_times_VAC_new / DOS\n",
    "        if nt > 0:\n",
    "            tmp = dt[nt - 1] * (DOS_times_VAC_old + DOS_times_VAC_new) * 0.5\n",
    "            sigma_from_VAC[nt, :] = sigma_from_VAC[nt - 1, :] + tmp\n",
    "        DOS_times_VAC_old = DOS_times_VAC_new\n",
    "        phi_left = evolve(H_scaled, dt_scaled[nt], -1, phi_left)\n",
    "        phi_right = evolve(H_scaled, dt_scaled[nt], -1, phi_right)\n",
    "    sigma_from_VAC *= 2.0 * np.pi # from e^2/hbar to e^2/h\n",
    "    return VAC, sigma_from_VAC"
   ]
  },
  {
   "cell_type": "markdown",
   "metadata": {},
   "source": [
    "## 11. MSD and related quantites\n",
    "* Check Eqs. (102) and (103) for the expression for the product of the DOS $\\rho(E)$ and MSD $\\Delta X^2(E,t)$.\n",
    "* The MSD is calculated as $\\Delta X^2(E,t)=\\rho(E)\\Delta X^2(E,t)/\\rho(E)$.\n",
    "* The time dependent electrical conductivity is calculated as in Eq. (43) of the review paper:\n",
    "$$\n",
    "\\sigma(E,t) = e^2 \\rho(E) \\frac{1}{2}\\frac{d}{dt} \\Delta X^2(E,t).\n",
    "$$\n",
    "* The function below returns both $\\Delta X^2(E,t)$ and $\\sigma(E,t)$."
   ]
  },
  {
   "cell_type": "code",
   "execution_count": 13,
   "metadata": {
    "collapsed": true
   },
   "outputs": [],
   "source": [
    "def find_msd(M, E_max, dt_scaled, E_scaled, H_scaled, V_scaled, phi, DOS):\n",
    "    Ne = E_scaled.size  # number of energy points\n",
    "    Nt = dt_scaled.size # number of time steps\n",
    "    dt = dt_scaled / E_max\n",
    "    MSD = np.zeros((Nt, Ne))\n",
    "    sigma_from_MSD = np.zeros((Nt, Ne))\n",
    "    phix = phi * 0.0\n",
    "    DOS_times_MSD_old = np.zeros(Ne)\n",
    "    DOS_times_MSD_new = np.zeros(Ne)\n",
    "    for nt in range(Nt):\n",
    "        phix = evolve(H_scaled, dt_scaled[nt], 1, phix);\n",
    "        phix += evolvex(H_scaled, V_scaled, dt_scaled[nt], phi);\n",
    "        phi = evolve(H_scaled, dt_scaled[nt], 1, phi);\n",
    "        C = find_moments(M, H_scaled, phix, phix);\n",
    "        DOS_times_MSD_new = chebyshev_summation(M, C, E_scaled, E_max);\n",
    "        MSD[nt, :] = DOS_times_MSD_new / DOS\n",
    "        sigma_from_MSD[nt, :] = (DOS_times_MSD_new - DOS_times_MSD_old) / dt[nt] * 0.5\n",
    "        DOS_times_MSD_old = DOS_times_MSD_new\n",
    "    sigma_from_MSD *= 2.0 * np.pi # from e^2/hbar to e^2/h\n",
    "    return MSD, sigma_from_MSD"
   ]
  },
  {
   "cell_type": "markdown",
   "metadata": {},
   "source": [
    "## 12. A function doing all the calculations"
   ]
  },
  {
   "cell_type": "code",
   "execution_count": 14,
   "metadata": {},
   "outputs": [],
   "source": [
    "def lsqt(Nx, Ny, W, M, E_max, E, dt):\n",
    "    H, V = find_H(Nx, Ny, W)\n",
    "    phi = create_state(Nx * Ny)\n",
    "    DOS = find_dos(M, E_max, E/E_max, H/E_max, phi)\n",
    "    VAC, sigma_from_VAC = find_vac(M, E_max, dt*E_max, E/E_max, H/E_max, V, phi, DOS)\n",
    "    MSD, sigma_from_MSD = find_msd(M, E_max, dt*E_max, E/E_max, H/E_max, V/E_max, phi, DOS)\n",
    "    return DOS, VAC, sigma_from_VAC, MSD, sigma_from_MSD"
   ]
  },
  {
   "cell_type": "markdown",
   "metadata": {},
   "source": [
    "## 13. Example 1: ballistic transport\n",
    "* I will try to get similar plots as in Figs. 5 and 6 in the review paper.\n",
    "* Note that the results in the review paper were obained by using the efficient GPUQT (https://github.com/brucefan1983/gpuqt) code, which is more than two orders of magnitude faster than the Python code here.\n",
    "* Due to the huge difference in performance, I have used much \"cheaper\" parameters than those used in the review apper:\n",
    " * The number of sites in the review paper is $10^7$, while it is $10^6$ here. Both numbers are large enough for studying the ballistic transport. Using $10^7$ sites and a single random vector is essentilly equivalent to using $10^6$ sites and 10 random vectors.\n",
    "  * The results in the review paper were obtained by averaging over 10 random vectors, while I only use a single random vector here. \n",
    " * The number of moments is 3000 in the review paper, while it is 1000 here.\n",
    "* Therefore, the results in the review paper are much more accurate, which means that the curves in the review paper is much more smooth than those below.\n",
    "* Check Eq. (46) in the review paper for the expression of conductance. There is a missing $A$ in the denominator. It should read:\n",
    "$$\n",
    "g(E) = \\frac{A}{2}e^2 \\rho(E) v_{\\rm F}(E),\n",
    "$$\n",
    "where the \"cross-sectional area\" $A$ should be taken as the width $N_y$ here."
   ]
  },
  {
   "cell_type": "code",
   "execution_count": 15,
   "metadata": {},
   "outputs": [
    {
     "data": {
      "image/png": "[encoded data removed]",
      "text/plain": [
       "<Figure size 432x288 with 1 Axes>"
      ]
     },
     "metadata": {
      "needs_background": "light"
     },
     "output_type": "display_data"
    },
    {
     "data": {
      "image/png": "[encoded data removed]",
      "text/plain": [
       "<Figure size 432x288 with 1 Axes>"
      ]
     },
     "metadata": {
      "needs_background": "light"
     },
     "output_type": "display_data"
    },
    {
     "data": {
      "image/png": "[encoded data removed]",
      "text/plain": [
       "<Figure size 432x288 with 1 Axes>"
      ]
     },
     "metadata": {
      "needs_background": "light"
     },
     "output_type": "display_data"
    },
    {
     "data": {
      "image/png": "[encoded data removed]",
      "text/plain": [
       "<Figure size 432x288 with 1 Axes>"
      ]
     },
     "metadata": {
      "needs_background": "light"
     },
     "output_type": "display_data"
    },
    {
     "data": {
      "image/png": "[encoded data removed]",
      "text/plain": [
       "<Figure size 432x288 with 1 Axes>"
      ]
     },
     "metadata": {
      "needs_background": "light"
     },
     "output_type": "display_data"
    }
   ],
   "source": [
    "# (1) Prepare some parameters\n",
    "Nx = 500000                       # length\n",
    "Ny = 2                            # width\n",
    "W = 0                             # no disorder in this example\n",
    "E_max = 3.1                       # energy scaling factor\n",
    "M = 1000                          # number of Chebyshev moments\n",
    "E = np.linspace(-3, 3, num = 601) # energy points\n",
    "dt = np.ones(10)                  # time steps\n",
    "\n",
    "# (2) Calculate physical quantities\n",
    "DOS, VAC, sigma_from_VAC, MSD, sigma_from_MSD = lsqt(Nx, Ny, W, M, E_max, E, dt)\n",
    "v_F = np.sqrt(VAC[0, :])                        # Fermi velocity\n",
    "g = Ny * DOS * v_F * 0.5                        # conductance\n",
    "g *= 2.0 * np.pi                                # from e^2/hbar to e^2/h\n",
    "\n",
    "# (3) Get similar plots as in Figs. 5 and 6 in the review paper\n",
    "\n",
    "plt.figure\n",
    "plt.plot(np.arange(10.0), VAC[:, 301], 'bo')\n",
    "plt.xlabel('Time ($\\hbar/\\gamma$)')\n",
    "plt.ylabel('VAC ($a^2\\gamma^2/\\hbar^2$)')\n",
    "plt.ylim(0, 4)\n",
    "plt.show()\n",
    "\n",
    "plt.figure\n",
    "plt.plot(np.arange(1.0, 11.0, 1.0), MSD[:, 301], 'bo')\n",
    "plt.xlabel('Time ($\\hbar/\\gamma$)')\n",
    "plt.ylabel('MSD ($a^2$)')\n",
    "plt.show()\n",
    "\n",
    "plt.figure\n",
    "plt.plot(E, DOS)\n",
    "plt.xlabel('Energy ($\\gamma$)')\n",
    "plt.ylabel('DOS ($1/\\gamma/a^2$)')\n",
    "plt.show()\n",
    "\n",
    "plt.figure\n",
    "plt.plot(E, v_F)\n",
    "plt.xlabel('Energy ($\\gamma$)')\n",
    "plt.ylabel('v ($a\\gamma/\\hbar$)')\n",
    "plt.show()\n",
    "\n",
    "plt.figure\n",
    "plt.plot(E, g)\n",
    "plt.xlabel('Energy ($\\gamma$)')\n",
    "plt.ylabel('g ($e^2/h$)')\n",
    "plt.show()"
   ]
  },
  {
   "cell_type": "markdown",
   "metadata": {},
   "source": [
    "## 14. Example 2: diffusive transport\n",
    "* I will try to get similar plots as in Fig. 7 in the review paper."
   ]
  },
  {
   "cell_type": "code",
   "execution_count": 16,
   "metadata": {},
   "outputs": [
    {
     "data": {
      "image/png": "[encoded data removed]",
      "text/plain": [
       "<Figure size 432x288 with 1 Axes>"
      ]
     },
     "metadata": {
      "needs_background": "light"
     },
     "output_type": "display_data"
    },
    {
     "data": {
      "image/png": "[encoded data removed]",
      "text/plain": [
       "<Figure size 432x288 with 1 Axes>"
      ]
     },
     "metadata": {
      "needs_background": "light"
     },
     "output_type": "display_data"
    },
    {
     "data": {
      "image/png": "[encoded data removed]",
      "text/plain": [
       "<Figure size 432x288 with 1 Axes>"
      ]
     },
     "metadata": {
      "needs_background": "light"
     },
     "output_type": "display_data"
    },
    {
     "data": {
      "image/png": "[encoded data removed]",
      "text/plain": [
       "<Figure size 432x288 with 1 Axes>"
      ]
     },
     "metadata": {
      "needs_background": "light"
     },
     "output_type": "display_data"
    }
   ],
   "source": [
    "# (1) Prepare some parameters\n",
    "Nx = 20000                         # length\n",
    "Ny = 50                            # width\n",
    "W = 1.0                            # disordered\n",
    "E_max = 5.1                        # energy scaling factor\n",
    "M = 1000                           # number of Chebyshev moments\n",
    "E = np.linspace(-5, 5, num = 1001) # energy points\n",
    "dt = np.ones(20) * 2.0             # time steps\n",
    "\n",
    "# (2) Calculate physical quantities\n",
    "DOS, VAC, sigma_from_VAC, MSD, sigma_from_MSD = lsqt(Nx, Ny, W, M, E_max, E, dt)\n",
    "\n",
    "# (3) Get plots similar to those in Fig. 7 in the review paper\n",
    "plt.figure\n",
    "plt.plot(np.arange(0.0, 40.0, 2.0), VAC[:, 501], 'bo')\n",
    "plt.xlabel('Time ($\\hbar/\\gamma$)')\n",
    "plt.ylabel('VAC ($a^2\\gamma^2/\\hbar^2$)')\n",
    "plt.show()\n",
    "\n",
    "plt.figure\n",
    "plt.plot(np.arange(2.0, 42.0, 2.0), MSD[:, 501], 'rd')\n",
    "plt.xlabel('Time ($\\hbar/\\gamma$)')\n",
    "plt.ylabel('MSD ($a^2$)')\n",
    "plt.show()\n",
    "\n",
    "plt.figure\n",
    "plt.plot(np.arange(0.0, 40.0, 2.0), sigma_from_VAC[:, 501], 'bo')\n",
    "plt.plot(np.arange(1.0, 41.0, 2.0), sigma_from_MSD[:, 501], 'rd')\n",
    "plt.xlabel('Time ($\\hbar/\\gamma$)')\n",
    "plt.ylabel('$\\sigma$ ($e^2/h$)')\n",
    "plt.show()\n",
    "\n",
    "plt.figure\n",
    "plt.plot(E, np.amax(sigma_from_VAC, axis=0), 'bo')\n",
    "plt.plot(E, np.amax(sigma_from_MSD, axis=0), 'rd')\n",
    "plt.xlabel('Energy ($\\gamma$)')\n",
    "plt.ylabel('$\\sigma_{sc}$ ($e^2/h$)')\n",
    "plt.show()\n"
   ]
  },
  {
   "cell_type": "markdown",
   "metadata": {},
   "source": [
    "## 15. Summary\n",
    "* I have presented a Python 3 code which can help to understand some of the methods in the review paper.\n",
    "* Some figures in the review paper are reproduced. The quality of the results are not as high as that in the review paper due to the relatively low efficiency of the Python code. Usually, high performance computing is needed. For this, please check the GPUQT (https://github.com/brucefan1983/gpuqt) code."
   ]
  }
 ],
 "metadata": {
  "kernelspec": {
   "display_name": "Python 3/anaconda3/latest",
   "language": "python",
   "name": "python3"
  },
  "language_info": {
   "codemirror_mode": {
    "name": "ipython",
    "version": 3
   },
   "file_extension": ".py",
   "mimetype": "text/x-python",
   "name": "python",
   "nbconvert_exporter": "python",
   "pygments_lexer": "ipython3",
   "version": "3.6.8"
  }
 },
 "nbformat": 4,
 "nbformat_minor": 2
}
