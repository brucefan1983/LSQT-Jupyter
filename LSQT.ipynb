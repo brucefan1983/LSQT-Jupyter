{
 "cells": [
  {
   "cell_type": "markdown",
   "metadata": {},
   "source": [
    "# LSQT-Jupyter"
   ]
  },
  {
   "cell_type": "markdown",
   "metadata": {},
   "source": [
    "## 1. Introduction\n",
    "\n",
    "* `LSQT-Jupyter` is a Jupyter notebook demonstrating some practical apects of the linear-scaling quantum transport methods reviewd in Ref. [1].\n",
    "* The programming language chosen is `Python 3`.\n",
    "* We will refer to Ref. [1] frequently for the relevant theoretical backgounds.\n",
    "* This code is only suitable for leanring the methods. For high performance computing, check the `GPUQT` code I wrote: https://github.com/brucefan1983/gpuqt\n",
    "* This code only considers square lattice with Anderson disoder as the model system. For more general simulations, again check the `GPUQT` code.\n",
    "* For fans of `Matlab`, check the `lsqt-matlab` code I wrote: https://github.com/brucefan1983/lsqt-matlab\n",
    "\n",
    "[1] Zheyong Fan, Jose Hugo Garcia, Aron W Cummings, Jose-Eduardo Barrios, Michel Panhans, Ari Harju, Frank Ortmann, and Stephan Roche, Linear Scaling Quantum Transport Methodologies, submitted to Reviews of Modern Physics. https://arxiv.org/abs/1811.07387"
   ]
  },
  {
   "cell_type": "markdown",
   "metadata": {},
   "source": [
    "## 2. Unit system (We are working in 2D)\n",
    "* Basic units:\n",
    " * Reduced Planck constant $\\hbar$ = 1\n",
    " * Elementary charge $e$ = 1\n",
    " * Energy unit $\\gamma=1$ is hopping integral\n",
    " * Length unit $a=1$ is the lattice constant\n",
    "* Derived units:\n",
    " * Time: $\\hbar/\\gamma$\n",
    " * Densit of states (DOS) in 2D: $1/\\gamma/a^2$\n",
    " * Velocity autocorrelation (VAC): $a^2\\gamma^2/\\hbar^2$\n",
    " * Mean square displacement (MSD): $a^2$\n",
    " * Electrical conductivity in 2D: $e^2/\\hbar$\n",
    " * Electrical conductance: $e^2/\\hbar$"
   ]
  },
  {
   "cell_type": "markdown",
   "metadata": {},
   "source": [
    "## 3. Import the needed Python packages"
   ]
  },
  {
   "cell_type": "code",
   "execution_count": 1,
   "metadata": {
    "collapsed": true
   },
   "outputs": [],
   "source": [
    "import numpy as np              # used frequently\n",
    "import matplotlib as mpl        # do we need this?\n",
    "import matplotlib.pyplot as plt # used for plotting\n",
    "from scipy import sparse        # crucial for performance\n",
    "from scipy import integrate     # do we need this?\n",
    "from scipy import special       # for Bessel function"
   ]
  },
  {
   "cell_type": "markdown",
   "metadata": {},
   "source": [
    "## 4. Construct the tight-binding model\n",
    "1. We consdier the nearest-neighbor tight-bindng model defined on a square lattice with lattice constant $a$ and dimensions $N=N_x\\times N_y$.\n",
    "2. The Hamiltonian can be written as\n",
    "$$\n",
    "\\hat{H} = \\sum_{ij} (-\\gamma) c_i^{\\dagger} c_j + \\sum_i U_i c_i^{\\dagger} c_i,\n",
    "$$\n",
    "where $-\\gamma$ is the hopping integral and $U_i$ are the on-site potentials. The on-site potentials are uniformly distributed in an interval $[-W/2, W/2]$, where $W$ is the Anderson disorder strength. For simplicity, we consider open boundary conditions in the $y$ direction and study the transorpt in the $x$ direction."
   ]
  },
  {
   "cell_type": "markdown",
   "metadata": {
    "collapsed": true
   },
   "source": [
    "### 4.1 Define an indexing scheme\n",
    "1. The purpose is to map th 2D indices in the lattice into 1D indices\n",
    "2. The 1D indices will be used for the Hamiltionian, velcoity operator, and various vectors.\n",
    "3. This only requires a simple function shown below:"
   ]
  },
  {
   "cell_type": "code",
   "execution_count": 2,
   "metadata": {
    "collapsed": true
   },
   "outputs": [],
   "source": [
    "def find_index(nx, ny, Ny):\n",
    "    \"\"\"\n",
    "    Get a 1D index from a 2D index\n",
    "    Args:\n",
    "        nx (int): x-index of a site\n",
    "        ny (int): y-index of the same site\n",
    "    Returns:\n",
    "        index (int): 1D index for (nx, ny)\n",
    "    \"\"\"\n",
    "    index = nx * Ny + ny\n",
    "    return index"
   ]
  },
  {
   "cell_type": "markdown",
   "metadata": {},
   "source": [
    "### 4.2. Define the function for creating the sparse Hamiltonian and velocity operator\n",
    "1. We consider square lattice with $N_x \\times N_y$ lattice sites.\n",
    "2. Use periodic boundary conditions in the $x$ direction.\n",
    "3. Use open boundary conditions in the $y$ direction.\n",
    "4. Assume the transport is in the $x$ direction.\n",
    "5. All the hoppings integral $\\gamma=1$ defines the energy units.\n",
    "6. The lattices constant $a=1$ defines the length units.\n",
    "7. Anderson diorder strength is $W$, which means that random on-site potentials are uniformly chosen from $[-W/2, W/2]$. $W$ is in units of $\\gamma$."
   ]
  },
  {
   "cell_type": "code",
   "execution_count": 3,
   "metadata": {
    "collapsed": true
   },
   "outputs": [],
   "source": [
    "def find_H(Nx, Ny, W):\n",
    "    \"\"\"\n",
    "    Construct the sparse Hamiltonian and velocity operator\n",
    "    Args:\n",
    "        Nx (int): number of lattice points in the x direction\n",
    "        Ny (int): number of lattice points in the y direction\n",
    "        W (real): Anderson disorder strength\n",
    "    Returns:\n",
    "        H (sparse.csr_matrix): The sparse Hamiltonian\n",
    "        V (sparse.csr_matrix): The sparse velocity operator\n",
    "    \"\"\"\n",
    "    N = Nx * Ny; # total number of sites\n",
    "    row_H = np.zeros(N * 4 - Nx * 2) # the row indices for H\n",
    "    col_H = np.zeros(N * 4 - Nx * 2) # the column indices for H\n",
    "    Hij = -np.ones(N * 4 - Nx * 2, complex) # nonzero Hamiltonian elements\n",
    "    row_V = np.zeros(N * 2) # row indices for V\n",
    "    col_V = np.zeros(N * 2) # column indices for V\n",
    "    Vij = np.zeros(N * 2, complex) # nonzero velocity matrix elements\n",
    "    row_U = np.arange(0, N) # row and column indices for U\n",
    "    Uij = np.random.uniform(-W * 0.5, W * 0.5, N) # on-site potentials\n",
    "    count_H = 0 # number of nonzero H elements\n",
    "    count_V = 0 # number of nonzero V elements\n",
    "    for nx in range(Nx):\n",
    "        for ny in range(Ny):\n",
    "            # (0) # get the index of the center site\n",
    "            index_center = find_index(nx, ny, Ny)\n",
    "            # (1) consider the left neighbor (periodic boundary)\n",
    "            index_left = find_index((nx - 1) % Nx, ny, Ny)\n",
    "            row_H[count_H] = index_center\n",
    "            col_H[count_H] = index_left\n",
    "            count_H += 1\n",
    "            row_V[count_V] = index_center\n",
    "            col_V[count_V] = index_left\n",
    "            Vij[count_V] = 1j\n",
    "            count_V += 1\n",
    "            # (2) consider the right neighbor (periodic boundary)\n",
    "            index_right = find_index((nx + 1) % Nx, ny, Ny)\n",
    "            row_H[count_H] = index_center\n",
    "            col_H[count_H] = index_right\n",
    "            count_H += 1\n",
    "            row_V[count_V] = index_center\n",
    "            col_V[count_V] = index_right\n",
    "            Vij[count_V] = -1j\n",
    "            count_V += 1\n",
    "            # (3) consider the upper neighbor (open boundary)\n",
    "            if ny < Ny - 1:\n",
    "                index_up = find_index(nx, (ny + 1), Ny)\n",
    "                row_H[count_H] = index_center\n",
    "                col_H[count_H] = index_up\n",
    "                count_H += 1\n",
    "            # (4) consider the down neighbor (open boundary)\n",
    "            if ny > 0:\n",
    "                index_down = find_index(nx, (ny - 1), Ny)\n",
    "                row_H[count_H] = index_center\n",
    "                col_H[count_H] = index_down\n",
    "                count_H += 1\n",
    "    H = sparse.csr_matrix((Hij, (row_H, col_H)), shape = (N, N))\n",
    "    U = sparse.csr_matrix((Uij, (row_U, row_U)), shape = (N, N))\n",
    "    H = H + U\n",
    "    V = sparse.csr_matrix((Vij, (row_V, col_V)), shape = (N, N))\n",
    "    return (H, V)"
   ]
  },
  {
   "cell_type": "markdown",
   "metadata": {},
   "source": [
    "### 4.3. Check the `find_H` function and visualize the sparse matrices\n",
    "1. Try $N_x = N_y = 4$ and print H and V. One can check (with pencil and paper) that the results are correct.\n",
    "2. Check the pattern of H: each row (or column) only has 4 or 5  nonzero elements.\n",
    "3. Check the pattern of V: each row (or column) only has 2 nonzero elements."
   ]
  },
  {
   "cell_type": "code",
   "execution_count": 4,
   "metadata": {},
   "outputs": [
    {
     "name": "stdout",
     "output_type": "stream",
     "text": [
      "  (0, 0)\t(-0.266801358582+0j)\n",
      "  (0, 1)\t(-1+0j)\n",
      "  (0, 4)\t(-1+0j)\n",
      "  (0, 12)\t(-1+0j)\n",
      "  (1, 0)\t(-1+0j)\n",
      "  (1, 1)\t(-0.0645718576443+0j)\n",
      "  (1, 2)\t(-1+0j)\n",
      "  (1, 5)\t(-1+0j)\n",
      "  (1, 13)\t(-1+0j)\n",
      "  (2, 1)\t(-1+0j)\n",
      "  (2, 2)\t(0.350173945498+0j)\n",
      "  (2, 3)\t(-1+0j)\n",
      "  (2, 6)\t(-1+0j)\n",
      "  (2, 14)\t(-1+0j)\n",
      "  (3, 2)\t(-1+0j)\n",
      "  (3, 3)\t(0.104140856952+0j)\n",
      "  (3, 7)\t(-1+0j)\n",
      "  (3, 15)\t(-1+0j)\n",
      "  (4, 0)\t(-1+0j)\n",
      "  (4, 4)\t(0.0962817411791+0j)\n",
      "  (4, 5)\t(-1+0j)\n",
      "  (4, 8)\t(-1+0j)\n",
      "  (5, 1)\t(-1+0j)\n",
      "  (5, 4)\t(-1+0j)\n",
      "  (5, 5)\t(0.341871450555+0j)\n",
      "  :\t:\n",
      "  (10, 10)\t(-0.0818245069255+0j)\n",
      "  (10, 11)\t(-1+0j)\n",
      "  (10, 14)\t(-1+0j)\n",
      "  (11, 7)\t(-1+0j)\n",
      "  (11, 10)\t(-1+0j)\n",
      "  (11, 11)\t(0.42466268555+0j)\n",
      "  (11, 15)\t(-1+0j)\n",
      "  (12, 0)\t(-1+0j)\n",
      "  (12, 8)\t(-1+0j)\n",
      "  (12, 12)\t(0.307140048064+0j)\n",
      "  (12, 13)\t(-1+0j)\n",
      "  (13, 1)\t(-1+0j)\n",
      "  (13, 9)\t(-1+0j)\n",
      "  (13, 12)\t(-1+0j)\n",
      "  (13, 13)\t(-0.208325707667+0j)\n",
      "  (13, 14)\t(-1+0j)\n",
      "  (14, 2)\t(-1+0j)\n",
      "  (14, 10)\t(-1+0j)\n",
      "  (14, 13)\t(-1+0j)\n",
      "  (14, 14)\t(0.29760713864+0j)\n",
      "  (14, 15)\t(-1+0j)\n",
      "  (15, 3)\t(-1+0j)\n",
      "  (15, 11)\t(-1+0j)\n",
      "  (15, 14)\t(-1+0j)\n",
      "  (15, 15)\t(-0.449301826396+0j)\n",
      "==========================================\n",
      "  (0, 4)\t(-0-1j)\n",
      "  (0, 12)\t1j\n",
      "  (1, 5)\t(-0-1j)\n",
      "  (1, 13)\t1j\n",
      "  (2, 6)\t(-0-1j)\n",
      "  (2, 14)\t1j\n",
      "  (3, 7)\t(-0-1j)\n",
      "  (3, 15)\t1j\n",
      "  (4, 0)\t1j\n",
      "  (4, 8)\t(-0-1j)\n",
      "  (5, 1)\t1j\n",
      "  (5, 9)\t(-0-1j)\n",
      "  (6, 2)\t1j\n",
      "  (6, 10)\t(-0-1j)\n",
      "  (7, 3)\t1j\n",
      "  (7, 11)\t(-0-1j)\n",
      "  (8, 4)\t1j\n",
      "  (8, 12)\t(-0-1j)\n",
      "  (9, 5)\t1j\n",
      "  (9, 13)\t(-0-1j)\n",
      "  (10, 6)\t1j\n",
      "  (10, 14)\t(-0-1j)\n",
      "  (11, 7)\t1j\n",
      "  (11, 15)\t(-0-1j)\n",
      "  (12, 0)\t(-0-1j)\n",
      "  (12, 8)\t1j\n",
      "  (13, 1)\t(-0-1j)\n",
      "  (13, 9)\t1j\n",
      "  (14, 2)\t(-0-1j)\n",
      "  (14, 10)\t1j\n",
      "  (15, 3)\t(-0-1j)\n",
      "  (15, 11)\t1j\n"
     ]
    }
   ],
   "source": [
    "H, V = find_H(4, 4, 1)\n",
    "print(H)\n",
    "print(\"==========================================\")\n",
    "print(V)"
   ]
  },
  {
   "cell_type": "code",
   "execution_count": 5,
   "metadata": {},
   "outputs": [
    {
     "data": {
      "image/png": "[encoded data removed]",
      "text/plain": [
       "<matplotlib.figure.Figure at 0x16d4b20f6a0>"
      ]
     },
     "metadata": {},
     "output_type": "display_data"
    }
   ],
   "source": [
    "plt.spy(H, markersize = 2)\n",
    "plt.show()"
   ]
  },
  {
   "cell_type": "code",
   "execution_count": 6,
   "metadata": {},
   "outputs": [
    {
     "data": {
      "image/png": "[encoded data removed]",
      "text/plain": [
       "<matplotlib.figure.Figure at 0x16d4b18a6d8>"
      ]
     },
     "metadata": {},
     "output_type": "display_data"
    }
   ],
   "source": [
    "plt.spy(V, markersize = 2)\n",
    "plt.show()"
   ]
  },
  {
   "cell_type": "markdown",
   "metadata": {},
   "source": [
    "## 5. Create a random state\n",
    "* In all the LSQT methods, the first crucial step is to use random vector approximation for evaluating the trace of a matrix.\n",
    "* We use random phase vector, whose elements can be written as $e^{i\\theta}=\\cos(\\theta)+i\\sin(\\theta)$, where $\\theta$ is a random number within $[0, 2\\pi]$."
   ]
  },
  {
   "cell_type": "markdown",
   "metadata": {},
   "source": [
    "### 5.1 Define the function"
   ]
  },
  {
   "cell_type": "code",
   "execution_count": 7,
   "metadata": {
    "collapsed": true
   },
   "outputs": [],
   "source": [
    "def create_state(N):\n",
    "    \"\"\"\n",
    "    Function to construct a complex random vector\n",
    "    Args:\n",
    "        N (int): Length of the vector\n",
    "    Returns:\n",
    "        phi (complex ndarray): The random vector\n",
    "    \"\"\"\n",
    "    random_phase = np.random.uniform(0, 2 * np.pi, N)\n",
    "    phi = np.cos(random_phase) + np.sin(random_phase) * 1j; \n",
    "    phi = phi / np.linalg.norm(phi);\n",
    "    return phi"
   ]
  },
  {
   "cell_type": "markdown",
   "metadata": {},
   "source": [
    "### 5.2 Check the function\n",
    "1. We see that the vector is complex and is correctely normalized to 1"
   ]
  },
  {
   "cell_type": "code",
   "execution_count": 8,
   "metadata": {},
   "outputs": [
    {
     "name": "stdout",
     "output_type": "stream",
     "text": [
      "phi = \n",
      "[ 0.22447669+0.22273351j -0.31437405+0.03419003j -0.31393732-0.03799156j\n",
      "  0.26724079+0.16906319j  0.27822370+0.15030494j -0.29437700+0.11550837j\n",
      " -0.07553539+0.30707394j -0.15911728-0.27327951j -0.27890111+0.14904419j\n",
      "  0.26844826-0.16713926j]\n",
      "norm(phi) = \n",
      "1.0\n"
     ]
    }
   ],
   "source": [
    "phi = create_state(10)\n",
    "print(\"phi = \")\n",
    "print(phi)\n",
    "print(\"norm(phi) = \")\n",
    "print(np.linalg.norm(phi)) # should be 1"
   ]
  },
  {
   "cell_type": "markdown",
   "metadata": {},
   "source": [
    "## 6. Calculate the Chebyshev moments\n",
    "1. The chebyshev moments $C_m$ of the DOS, VAC, and MSD can be uniformly expresseed as\n",
    "$$\n",
    "C_m = \\langle \\phi_L| T_m(\\tilde{H}) | \\phi_R \\rangle,\n",
    "$$\n",
    "where $\\tilde{H}$ is the scaled Hamiltonian and $T_m$ is the $m$-th order Chebyshev polynomial of the first kind.\n",
    "2. The differences between the above three quantities are reflected by the different left and right vectors, $\\phi_L$ and $\\phi_R$.\n",
    "3. See Algorithm 4 in the review paper."
   ]
  },
  {
   "cell_type": "markdown",
   "metadata": {},
   "source": [
    "### 6.1. Define the function\n",
    "* There is no simple way to test this function. So we will continue to write other functions."
   ]
  },
  {
   "cell_type": "code",
   "execution_count": 9,
   "metadata": {
    "collapsed": true
   },
   "outputs": [],
   "source": [
    "def find_moments(M, H_scaled, phi_left, phi_right):\n",
    "    \"\"\"\n",
    "    Calculate the Chebyshev moments\n",
    "    Inputs:\n",
    "        M         (int):               Number of Chebyshev moments\n",
    "        phi_left  (complex ndarray):   The left vector\n",
    "        phi_right (complex ndarray):   The right vector\n",
    "        H_scaled  (sparse.csr_matrix): Scaled (sparse) Hamiltonian\n",
    "    Outputs:\n",
    "        C         (real ndarray):      The Chebyshev moments\n",
    "    \"\"\"   \n",
    "    C = np.zeros(M)\n",
    "    phi_0 = phi_right\n",
    "    C[0] = np.vdot(phi_left, phi_0).real\n",
    "    phi_1 = H_scaled.dot(phi_0)\n",
    "    C[1] = np.vdot(phi_left, phi_1).real\n",
    "    for m in range(2, M):\n",
    "        phi_2 = 2.0 * H_scaled.dot(phi_1) - phi_0\n",
    "        C[m] = np.vdot(phi_left, phi_2).real\n",
    "        phi_0 = phi_1\n",
    "        phi_1 = phi_2\n",
    "    return C"
   ]
  },
  {
   "cell_type": "markdown",
   "metadata": {},
   "source": [
    "## 7. Calculate the Chebyshev summation\n",
    "1. The chebyshev summation gives the final results:\n",
    "  * DOS: Equation (94) in the review paper\n",
    "  * DOS times VAC: Equation (100) in the review paper\n",
    "  * DOS times MSD: Equation (102) in the review paper"
   ]
  },
  {
   "cell_type": "markdown",
   "metadata": {},
   "source": [
    "### 7.1 The damping factor\n",
    "1. We only consider the Jackson damping factor.\n",
    "2. One can compare the figure to that in Fig. 3 of the review paper."
   ]
  },
  {
   "cell_type": "code",
   "execution_count": 10,
   "metadata": {
    "collapsed": true
   },
   "outputs": [],
   "source": [
    "def jackson_damping(M):\n",
    "    \"\"\"\n",
    "    Calculate the Jackson damping factor\n",
    "    Inputs:\n",
    "        M (int):           Number of Chebyshev moments\n",
    "    Outputs:\n",
    "        g (real ndarray):  The Jackson damping factor\n",
    "    \"\"\"\n",
    "    m = np.arange(M)\n",
    "    a = 1.0 / (M + 1.0)\n",
    "    g = (1.0 - m * a) * np.cos(np.pi * m * a)\n",
    "    g += a * np.sin(np.pi * m * a) / np.tan(np.pi * a)\n",
    "    return g"
   ]
  },
  {
   "cell_type": "code",
   "execution_count": 11,
   "metadata": {},
   "outputs": [
    {
     "data": {
      "image/png": "[encoded data removed]",
      "text/plain": [
       "<matplotlib.figure.Figure at 0x16d4af92198>"
      ]
     },
     "metadata": {},
     "output_type": "display_data"
    }
   ],
   "source": [
    "M = 10000\n",
    "plt.plot(np.arange(M), jackson_damping(M))\n",
    "plt.xlabel('m')\n",
    "plt.ylabel('g')\n",
    "plt.show()"
   ]
  },
  {
   "cell_type": "markdown",
   "metadata": {
    "collapsed": true
   },
   "source": [
    "### 7.2 Calculate the Chebyshev summation\n",
    "1. Check Eqs. (94), (100), and (102) in the review paper."
   ]
  },
  {
   "cell_type": "code",
   "execution_count": 12,
   "metadata": {
    "collapsed": true
   },
   "outputs": [],
   "source": [
    "def chebyshev_summation(M, C, E_scaled, E_max):\n",
    "    \"\"\"\n",
    "    Calculate the Chebyshev summation\n",
    "    Inputs:\n",
    "        M        (int):          Number of Chebyshev moments\n",
    "        C        (real ndarray): Chebyshev moments\n",
    "        E_scaled (real ndarray): energy points\n",
    "        E_max    (real):         scaling factor of energy\n",
    "    Outputs:\n",
    "        s        (real ndarray): Chebyshev summation\n",
    "    \"\"\"\n",
    "    g = jackson_damping(M) # get the damping factor\n",
    "    C *= g                 # apply the damping factor\n",
    "    Ne = E_scaled.size     # number of energy points\n",
    "    T0 = np.ones(Ne)\n",
    "    T1 = E_scaled\n",
    "    s = C[1] * T1\n",
    "    for m in range(2, M):\n",
    "        T2 = 2.0 * E_scaled * T1 - T0\n",
    "        T0 = T1\n",
    "        T1 = T2\n",
    "        s += C[m] * T2\n",
    "    s *= 2.0\n",
    "    s += C[0] * np.ones(Ne)\n",
    "    s *= 2.0 / (np.pi * np.sqrt(1.0 - E_scaled * E_scaled) * E_max)\n",
    "    return s"
   ]
  },
  {
   "cell_type": "markdown",
   "metadata": {},
   "source": [
    "## 8. Calculate the DOS"
   ]
  },
  {
   "cell_type": "markdown",
   "metadata": {},
   "source": [
    "### 8.1. Define the function\n",
    "1. Check Eq. (94) in the review paper."
   ]
  },
  {
   "cell_type": "code",
   "execution_count": 13,
   "metadata": {
    "collapsed": true
   },
   "outputs": [],
   "source": [
    "def find_dos(M, E_max, E_scaled, H_scaled, phi):\n",
    "    \"\"\"\n",
    "    Calculate the DOS (density of states)\n",
    "    Inputs:\n",
    "        M        (int):               Number of Chebyshev moments\n",
    "        E_max    (real):              Energy scaling factor\n",
    "        E_scaled (real ndarray):      Scaled energy\n",
    "        H_scaled (sparse.csr_matrix): Scaled Hamiltonian\n",
    "        phi      (complex adarray):   The initial random vector\n",
    "    Outputs:\n",
    "        DOS      (real ndarray):      The DOS\n",
    "    \"\"\"\n",
    "    C = find_moments(M, H_scaled, phi, phi)\n",
    "    DOS = chebyshev_summation(M, C, E_scaled, E_max)\n",
    "    return DOS"
   ]
  },
  {
   "cell_type": "markdown",
   "metadata": {},
   "source": [
    "### 8.2. Do some tests\n",
    "1. We will try to get a similar plot as in Fig. 5(c) in the review paper.\n",
    "2. Note that the results in the review paper were obained using the efficient GPUQT code. So there are some differences in the parameters chosen:\n",
    " * The number of sites in the review paper is 10 times larger in this example.\n",
    " * The number of moments is 3000 in the review paper, while it is 1000 here.\n",
    " * The results in the review paper were obtained by averaging over 10 random vectors, while we only use a single random vector below.\n",
    "3. Therefore, the results in the review paper are more accurate."
   ]
  },
  {
   "cell_type": "code",
   "execution_count": 14,
   "metadata": {},
   "outputs": [
    {
     "data": {
      "image/png": "[encoded data removed]",
      "text/plain": [
       "<matplotlib.figure.Figure at 0x16d4b20fb00>"
      ]
     },
     "metadata": {},
     "output_type": "display_data"
    }
   ],
   "source": [
    "# (1) Prepare some parameters\n",
    "Nx = 500000\n",
    "Ny = 2\n",
    "W = 0\n",
    "E_max = 4.1\n",
    "M = 1000\n",
    "E = np.linspace(-4, 4, num = 1001)\n",
    "# (2) Construct the model\n",
    "H, V = find_H(Nx, Ny, W)\n",
    "phi = create_state(Nx * Ny)\n",
    "# (3) Calculate the DOS\n",
    "DOS = find_dos(M, E_max, E/E_max, H/E_max, phi)\n",
    "# (4) Plot the results\n",
    "plt.plot(E, DOS)\n",
    "plt.xlabel('Energy ($\\gamma$)')\n",
    "plt.ylabel('DOS ($1/\\gamma/a^2$)')\n",
    "plt.show()"
   ]
  },
  {
   "cell_type": "markdown",
   "metadata": {},
   "source": [
    "## 9. Time evolution\n",
    "1. To calculate transport properties (VAC, MSD), we need to consider time evolution\n",
    "2. For the time evolution operator $\\hat{U}(\\pm \\Delta t)$, see Eqs. (73) and (74) in the review paper.\n",
    "2. For the time evolution operator $[X, \\hat{U}(\\Delta t)]$, see Eqs. (75) and (76) in the review paper."
   ]
  },
  {
   "cell_type": "markdown",
   "metadata": {},
   "source": [
    "### 9.1. Evaluating $|\\phi_{\\rm out}\\rangle = \\hat{U}(\\pm \\Delta t) |\\phi_{\\rm in}\\rangle$\n",
    "1. The implementation below follows Algorithm 1 in the review paper.\n",
    "2. For the Bessel function of the first kind, we use scipy.special.jv(n, x)."
   ]
  },
  {
   "cell_type": "code",
   "execution_count": 15,
   "metadata": {
    "collapsed": true
   },
   "outputs": [],
   "source": [
    "def evolve(H_scaled, dt_scaled, sign, phi_i):\n",
    "    \"\"\"\n",
    "    Calculate the action of the time evolution operator on a vector\n",
    "    Inputs:\n",
    "        H_scaled  (complex sparse.csr_matrix):  Scaled Hamiltonian\n",
    "        dt_scaled (real):                       scaled time step\n",
    "        sign      (int):                        1 for U(dt) and -1 for U(-dt)\n",
    "        phi_i     (complex ndarray):            input vector\n",
    "    Outputs:\n",
    "        phi_o:    (complex ndarray):            output vector\n",
    "    \"\"\"\n",
    "    phi_0 = phi_i\n",
    "    phi_1 = H_scaled.dot(phi_i)\n",
    "    j0 = special.jv(0, dt_scaled)\n",
    "    j1 = special.jv(1, dt_scaled)\n",
    "    phi_o = j0 * phi_0 + 2.0 * (-1j * sign) * j1 * phi_1\n",
    "    m = 2\n",
    "    while True:\n",
    "        jm = special.jv(m, dt_scaled)\n",
    "        if abs(jm) < 1.0e-15:\n",
    "            break\n",
    "        phi_2 = 2.0 * H_scaled.dot(phi_1) - phi_0\n",
    "        phi_o += 2.0 * (-1j * sign) ** m * jm * phi_2\n",
    "        phi_0 = phi_1\n",
    "        phi_1 = phi_2\n",
    "        m += 1\n",
    "    return phi_o\n"
   ]
  },
  {
   "cell_type": "markdown",
   "metadata": {},
   "source": [
    "### 9.2. Evaluating $|\\phi_{\\rm out}\\rangle = [X, \\hat{U}(\\Delta t)] |\\phi_{\\rm in}\\rangle$\n",
    "1. The implementation below follows Algorithm 2 in the review paper.\n",
    "2. For the Bessel function of the first kind, we use scipy.special.jv(n, x)."
   ]
  },
  {
   "cell_type": "code",
   "execution_count": 16,
   "metadata": {
    "collapsed": true
   },
   "outputs": [],
   "source": [
    "def evolvex(H_scaled, V, dt_scaled, phi_i):\n",
    "    \"\"\"\n",
    "    Calculate the action of [X, U] on a vector\n",
    "    Inputs:\n",
    "        H_scaled  (complex sparse.csr_matrix):  Scaled Hamiltonian\n",
    "        V         (complex sparse.csr_matrix):  Velocity operator\n",
    "        dt_scaled (real):                       scaled time step\n",
    "        phi_i     (complex ndarray):            input vector\n",
    "    Outputs:\n",
    "        phi_o:    (complex ndarray):            output vector\n",
    "    \"\"\"\n",
    "    phi_0 = phi_i\n",
    "    phix_0 = phi_i * 0.0\n",
    "    phi_1 = H_scaled.dot(phi_0)\n",
    "    phix_1 = 1j * V.dot(phi_0)\n",
    "    phi_o = (-2.0j) * special.jv(1, dt_scaled) * phix_1\n",
    "    m = 2\n",
    "    while True:\n",
    "        jm = special.jv(m, dt_scaled)\n",
    "        if abs(jm) < 1.0e-15:\n",
    "            break\n",
    "        phi_2 = 2.0 * H_scaled.dot(phi_1) - phi_0\n",
    "        phix_2 = 2.0j * V.dot(phi_1)\n",
    "        phix_2 += 2.0 * H_scaled.dot(phix_1) - phix_0\n",
    "        phi_o += 2.0 * (-1j) ** m * jm * phix_2\n",
    "        phi_0 = phi_1 \n",
    "        phi_1 = phi_2\n",
    "        phix_0 = phix_1\n",
    "        phix_1 = phix_2\n",
    "        m += 1\n",
    "    return pho_o"
   ]
  },
  {
   "cell_type": "markdown",
   "metadata": {},
   "source": [
    "## 10. Calculate the conductivity from VAC"
   ]
  },
  {
   "cell_type": "markdown",
   "metadata": {},
   "source": [
    "### 10.1. Define the function"
   ]
  },
  {
   "cell_type": "code",
   "execution_count": 17,
   "metadata": {
    "collapsed": true
   },
   "outputs": [],
   "source": [
    "def find_vac(M, E_max, dt_scaled, E_scaled, H_scaled, V, phi):\n",
    "    \"\"\"\n",
    "    Calculate DOS * VAC\n",
    "    Parameters\n",
    "    ----------\n",
    "    M:         Number of Chebyshev moments\n",
    "    E_max:     Energy scaling factor\n",
    "    dt_scaled: Scale time steps\n",
    "    E_scaled:  Scaled energy\n",
    "    H_scaled:  Scaled (sparse) Hamiltonian\n",
    "    V:         The (sparse) velocity operator\n",
    "    phi:       The initial random vector\n",
    "    Returns\n",
    "    -------\n",
    "    DOS_times_VAC: DOS * VAC\n",
    "    \"\"\"\n",
    "    Ne = E_scaled.size  # number of energy points\n",
    "    Nt = dt_scaled.size # number of time steps\n",
    "    phi_left = phi\n",
    "    phi_right = V.dot(phi)\n",
    "    DOS_times_VAC = np.zeros((Nt, Ne))\n",
    "    for nt in range(Nt):\n",
    "        C = find_moments(M, H, V.dot(phi_left), phi_right)\n",
    "        DOS_times_VAC[nt, :] = chebyshev_summation(M, C, E, E_max)\n",
    "        phi_left = evolve(H, dt[nt], -1, phi_left)\n",
    "        phi_right = evolve(H, dt[nt], -1, phi_right)\n",
    "    return DOS_times_VAC"
   ]
  },
  {
   "cell_type": "code",
   "execution_count": null,
   "metadata": {
    "collapsed": true
   },
   "outputs": [],
   "source": []
  },
  {
   "cell_type": "markdown",
   "metadata": {},
   "source": [
    "## 11. Calculate the conductivity from MSD"
   ]
  },
  {
   "cell_type": "code",
   "execution_count": 18,
   "metadata": {
    "collapsed": true
   },
   "outputs": [],
   "source": [
    "def find_dos_times_msd(M, E_max, dt_scaled, E_scaled, H_scaled, V, phi):\n",
    "    \"\"\"\n",
    "    Calculate DOS * MSD\n",
    "    Parameters\n",
    "    ----------\n",
    "    M:         Number of Chebyshev moments\n",
    "    E_max:     Energy scaling factor\n",
    "    dt_scaled: Scale time steps\n",
    "    E_scaled:  Scaled energy\n",
    "    H_scaled:  Scaled (sparse) Hamiltonian\n",
    "    V:         The (sparse) velocity operator\n",
    "    phi:       The initial random vector\n",
    "    Returns\n",
    "    -------\n",
    "    DOS_times_MSD: DOS * MSD\n",
    "    \"\"\"\n",
    "    Ne = E_scaled.size  # number of energy points\n",
    "    Nt = dt_scaled.size # number of time steps\n",
    "    phix = phi * 0.0\n",
    "    DOS_times_MSD = np.zeros((Nt, Ne))\n",
    "    for nt in range(Nt):\n",
    "        phix = evolve(H, dt[nt], 1, phix);\n",
    "        phix = phix + evolvex(H, V, dt[nt], phi);\n",
    "        phi = evolve(H, dt[nt], 1, phi);\n",
    "        Cn = find_moments(M, H, phix, phix);\n",
    "        DOS_times_MSD[nt, :] = chebyshev_summation(M, Cn, E, E_max);\n",
    "    return DOS_times_MSD"
   ]
  }
 ],
 "metadata": {
  "kernelspec": {
   "display_name": "Python 3",
   "language": "python",
   "name": "python3"
  },
  "language_info": {
   "codemirror_mode": {
    "name": "ipython",
    "version": 3
   },
   "file_extension": ".py",
   "mimetype": "text/x-python",
   "name": "python",
   "nbconvert_exporter": "python",
   "pygments_lexer": "ipython3",
   "version": "3.6.3"
  }
 },
 "nbformat": 4,
 "nbformat_minor": 2
}
