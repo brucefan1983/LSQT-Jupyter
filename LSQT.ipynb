{
 "cells": [
  {
   "cell_type": "markdown",
   "metadata": {},
   "source": [
    "# LSQT-Jupyter"
   ]
  },
  {
   "cell_type": "markdown",
   "metadata": {},
   "source": [
    "## 1. Introduction\n",
    "\n",
    "* `LSQT-Jupyter` is a Jupyter notebook demonstrating some practical apects of the linear-scaling quantum transport methods reviewd in Ref. [1].\n",
    "* The programming language chosen is `Python 3`.\n",
    "* We will refer to Ref. [1] frequently for the relevant theoretical backgounds.\n",
    "* This code is only suitable for leanring the methods. For high performance computing, check the `GPUQT` code I wrote: https://github.com/brucefan1983/gpuqt\n",
    "* This code only considers square lattice with Anderson disoder as the model system. For more general simulations, again check the `GPUQT` code.\n",
    "* For fans of `Matlab`, check the `lsqt-matlab` code I wrote: https://github.com/brucefan1983/lsqt-matlab\n",
    "\n",
    "[1] Zheyong Fan, Jose Hugo Garcia, Aron W Cummings, Jose-Eduardo Barrios, Michel Panhans, Ari Harju, Frank Ortmann, and Stephan Roche, Linear Scaling Quantum Transport Methodologies, submitted to Reviews of Modern Physics. https://arxiv.org/abs/1811.07387"
   ]
  },
  {
   "cell_type": "markdown",
   "metadata": {},
   "source": [
    "## 2. Unit system (We are working in 2D)\n",
    "* Basic units:\n",
    " * Reduced Planck constant $\\hbar$ = 1\n",
    " * Elementary charge $e$ = 1\n",
    " * Energy unit $\\gamma=1$ is hopping integral\n",
    " * Length unit $a=1$ is the lattice constant\n",
    "* Derived units:\n",
    " * Time: $\\hbar/\\gamma$\n",
    " * Densit of states (DOS) in 2D: $1/\\gamma/a^2$\n",
    " * Velocity autocorrelation (VAC): $a^2\\gamma^2/\\hbar^2$\n",
    " * Mean square displacement (MSD): $a^2$\n",
    " * Electrical conductivity in 2D: $e^2/\\hbar$\n",
    " * Electrical conductance: $e^2/\\hbar$"
   ]
  },
  {
   "cell_type": "markdown",
   "metadata": {},
   "source": [
    "## 3. Import the needed Python packages"
   ]
  },
  {
   "cell_type": "code",
   "execution_count": 1,
   "metadata": {
    "collapsed": true
   },
   "outputs": [],
   "source": [
    "import numpy as np              # used frequently\n",
    "import matplotlib as mpl        # do we need this?\n",
    "import matplotlib.pyplot as plt # used for plotting\n",
    "from scipy import sparse        # crucial for performance\n",
    "from scipy import integrate     # do we need this?\n",
    "from scipy import special       # for Bessel function"
   ]
  },
  {
   "cell_type": "markdown",
   "metadata": {},
   "source": [
    "## 4. Construct the tight-binding model\n",
    "1. We consdier the nearest-neighbor tight-bindng model defined on a square lattice with lattice constant $a$ and dimensions $N=N_x\\times N_y$.\n",
    "2. The Hamiltonian can be written as\n",
    "$$\n",
    "\\hat{H} = \\sum_{ij} (-\\gamma) c_i^{\\dagger} c_j + \\sum_i U_i c_i^{\\dagger} c_i,\n",
    "$$\n",
    "where $-\\gamma$ is the hopping integral and $U_i$ are the on-site potentials. The on-site potentials are uniformly distributed in an interval $[-W/2, W/2]$, where $W$ is the Anderson disorder strength. For simplicity, we consider open boundary conditions in the $y$ direction and study the transorpt in the $x$ direction."
   ]
  },
  {
   "cell_type": "markdown",
   "metadata": {
    "collapsed": true
   },
   "source": [
    "### 4.1 Define an indexing scheme\n",
    "1. The purpose is to map th 2D indices in the lattice into 1D indices\n",
    "2. The 1D indices will be used for the Hamiltionian, velcoity operator, and various vectors.\n",
    "3. This only requires a simple function shown below:"
   ]
  },
  {
   "cell_type": "code",
   "execution_count": 2,
   "metadata": {},
   "outputs": [],
   "source": [
    "def find_index(nx, ny, Ny):\n",
    "    \"\"\"\n",
    "    Get a 1D index from a 2D index\n",
    "    Args:\n",
    "        nx (int): x-index of a site\n",
    "        ny (int): y-index of the same site\n",
    "    Returns:\n",
    "        index (int): 1D index for (nx, ny)\n",
    "    \"\"\"\n",
    "    index = nx * Ny + ny\n",
    "    return index"
   ]
  },
  {
   "cell_type": "markdown",
   "metadata": {},
   "source": [
    "### 4.2. Define the function for creating the sparse Hamiltonian and velocity operator\n",
    "1. We consider square lattice with $N_x \\times N_y$ lattice sites.\n",
    "2. Use periodic boundary conditions in the $x$ direction.\n",
    "3. Use open boundary conditions in the $y$ direction.\n",
    "4. Assume the transport is in the $x$ direction.\n",
    "5. All the hoppings integral $\\gamma=1$ defines the energy units.\n",
    "6. The lattices constant $a=1$ defines the length units.\n",
    "7. Anderson diorder strength is $W$, which means that random on-site potentials are uniformly chosen from $[-W/2, W/2]$. $W$ is in units of $\\gamma$."
   ]
  },
  {
   "cell_type": "code",
   "execution_count": 3,
   "metadata": {
    "collapsed": true
   },
   "outputs": [],
   "source": [
    "def find_H(Nx, Ny, W):\n",
    "    \"\"\"\n",
    "    Construct the sparse Hamiltonian and velocity operator\n",
    "    Args:\n",
    "        Nx (int): number of lattice points in the x direction\n",
    "        Ny (int): number of lattice points in the y direction\n",
    "        W (real): Anderson disorder strength\n",
    "    Returns:\n",
    "        H (sparse.csr_matrix): The sparse Hamiltonian\n",
    "        V (sparse.csr_matrix): The sparse velocity operator\n",
    "    \"\"\"\n",
    "    N = Nx * Ny; # total number of sites\n",
    "    row_H = np.zeros(N * 4 - Nx * 2) # the row indices for H\n",
    "    col_H = np.zeros(N * 4 - Nx * 2) # the column indices for H\n",
    "    Hij = -np.ones(N * 4 - Nx * 2, complex) # nonzero Hamiltonian elements\n",
    "    row_V = np.zeros(N * 2) # row indices for V\n",
    "    col_V = np.zeros(N * 2) # column indices for V\n",
    "    Vij = np.zeros(N * 2, complex) # nonzero velocity matrix elements\n",
    "    row_U = np.arange(0, N) # row and column indices for U\n",
    "    Uij = np.random.uniform(-W * 0.5, W * 0.5, N) # on-site potentials\n",
    "    count_H = 0 # number of nonzero H elements\n",
    "    count_V = 0 # number of nonzero V elements\n",
    "    for nx in range(Nx):\n",
    "        for ny in range(Ny):\n",
    "            # (0) # get the index of the center site\n",
    "            index_center = find_index(nx, ny, Ny)\n",
    "            # (1) consider the left neighbor (periodic boundary)\n",
    "            index_left = find_index((nx - 1) % Nx, ny, Ny)\n",
    "            row_H[count_H] = index_center\n",
    "            col_H[count_H] = index_left\n",
    "            count_H += 1\n",
    "            row_V[count_V] = index_center\n",
    "            col_V[count_V] = index_left\n",
    "            Vij[count_V] = 1j\n",
    "            count_V += 1\n",
    "            # (2) consider the right neighbor (periodic boundary)\n",
    "            index_right = find_index((nx + 1) % Nx, ny, Ny)\n",
    "            row_H[count_H] = index_center\n",
    "            col_H[count_H] = index_right\n",
    "            count_H += 1\n",
    "            row_V[count_V] = index_center\n",
    "            col_V[count_V] = index_right\n",
    "            Vij[count_V] = -1j\n",
    "            count_V += 1\n",
    "            # (3) consider the upper neighbor (open boundary)\n",
    "            if ny < Ny - 1:\n",
    "                index_up = find_index(nx, (ny + 1), Ny)\n",
    "                row_H[count_H] = index_center\n",
    "                col_H[count_H] = index_up\n",
    "                count_H += 1\n",
    "            # (4) consider the down neighbor (open boundary)\n",
    "            if ny > 0:\n",
    "                index_down = find_index(nx, (ny - 1), Ny)\n",
    "                row_H[count_H] = index_center\n",
    "                col_H[count_H] = index_down\n",
    "                count_H += 1\n",
    "    H = sparse.csr_matrix((Hij, (row_H, col_H)), shape = (N, N))\n",
    "    U = sparse.csr_matrix((Uij, (row_U, row_U)), shape = (N, N))\n",
    "    H = H + U\n",
    "    V = sparse.csr_matrix((Vij, (row_V, col_V)), shape = (N, N))\n",
    "    return (H, V)"
   ]
  },
  {
   "cell_type": "markdown",
   "metadata": {},
   "source": [
    "### 4.3. Check the `find_H` function and visualize the sparse matrices\n",
    "1. Try $N_x = N_y = 4$ and print H and V. One can check (with pencil and paper) that the results are correct.\n",
    "2. Check the pattern of H: each row (or column) only has 4 or 5  nonzero elements.\n",
    "3. Check the pattern of V: each row (or column) only has 2 nonzero elements."
   ]
  },
  {
   "cell_type": "code",
   "execution_count": 4,
   "metadata": {},
   "outputs": [
    {
     "name": "stdout",
     "output_type": "stream",
     "text": [
      "  (0, 0)\t(-0.1097309692+0j)\n",
      "  (0, 1)\t(-1+0j)\n",
      "  (0, 4)\t(-1+0j)\n",
      "  (0, 12)\t(-1+0j)\n",
      "  (1, 0)\t(-1+0j)\n",
      "  (1, 1)\t(0.0338877922136+0j)\n",
      "  (1, 2)\t(-1+0j)\n",
      "  (1, 5)\t(-1+0j)\n",
      "  (1, 13)\t(-1+0j)\n",
      "  (2, 1)\t(-1+0j)\n",
      "  (2, 2)\t(-0.421450832463+0j)\n",
      "  (2, 3)\t(-1+0j)\n",
      "  (2, 6)\t(-1+0j)\n",
      "  (2, 14)\t(-1+0j)\n",
      "  (3, 2)\t(-1+0j)\n",
      "  (3, 3)\t(0.116431188179+0j)\n",
      "  (3, 7)\t(-1+0j)\n",
      "  (3, 15)\t(-1+0j)\n",
      "  (4, 0)\t(-1+0j)\n",
      "  (4, 4)\t(-0.352395124089+0j)\n",
      "  (4, 5)\t(-1+0j)\n",
      "  (4, 8)\t(-1+0j)\n",
      "  (5, 1)\t(-1+0j)\n",
      "  (5, 4)\t(-1+0j)\n",
      "  (5, 5)\t(-0.0360807601772+0j)\n",
      "  :\t:\n",
      "  (10, 10)\t(0.247521064984+0j)\n",
      "  (10, 11)\t(-1+0j)\n",
      "  (10, 14)\t(-1+0j)\n",
      "  (11, 7)\t(-1+0j)\n",
      "  (11, 10)\t(-1+0j)\n",
      "  (11, 11)\t(-0.0209601804857+0j)\n",
      "  (11, 15)\t(-1+0j)\n",
      "  (12, 0)\t(-1+0j)\n",
      "  (12, 8)\t(-1+0j)\n",
      "  (12, 12)\t(-0.246835907537+0j)\n",
      "  (12, 13)\t(-1+0j)\n",
      "  (13, 1)\t(-1+0j)\n",
      "  (13, 9)\t(-1+0j)\n",
      "  (13, 12)\t(-1+0j)\n",
      "  (13, 13)\t(0.198659255918+0j)\n",
      "  (13, 14)\t(-1+0j)\n",
      "  (14, 2)\t(-1+0j)\n",
      "  (14, 10)\t(-1+0j)\n",
      "  (14, 13)\t(-1+0j)\n",
      "  (14, 14)\t(-0.356407504166+0j)\n",
      "  (14, 15)\t(-1+0j)\n",
      "  (15, 3)\t(-1+0j)\n",
      "  (15, 11)\t(-1+0j)\n",
      "  (15, 14)\t(-1+0j)\n",
      "  (15, 15)\t(0.401650742067+0j)\n",
      "==========================================\n",
      "  (0, 4)\t(-0-1j)\n",
      "  (0, 12)\t1j\n",
      "  (1, 5)\t(-0-1j)\n",
      "  (1, 13)\t1j\n",
      "  (2, 6)\t(-0-1j)\n",
      "  (2, 14)\t1j\n",
      "  (3, 7)\t(-0-1j)\n",
      "  (3, 15)\t1j\n",
      "  (4, 0)\t1j\n",
      "  (4, 8)\t(-0-1j)\n",
      "  (5, 1)\t1j\n",
      "  (5, 9)\t(-0-1j)\n",
      "  (6, 2)\t1j\n",
      "  (6, 10)\t(-0-1j)\n",
      "  (7, 3)\t1j\n",
      "  (7, 11)\t(-0-1j)\n",
      "  (8, 4)\t1j\n",
      "  (8, 12)\t(-0-1j)\n",
      "  (9, 5)\t1j\n",
      "  (9, 13)\t(-0-1j)\n",
      "  (10, 6)\t1j\n",
      "  (10, 14)\t(-0-1j)\n",
      "  (11, 7)\t1j\n",
      "  (11, 15)\t(-0-1j)\n",
      "  (12, 0)\t(-0-1j)\n",
      "  (12, 8)\t1j\n",
      "  (13, 1)\t(-0-1j)\n",
      "  (13, 9)\t1j\n",
      "  (14, 2)\t(-0-1j)\n",
      "  (14, 10)\t1j\n",
      "  (15, 3)\t(-0-1j)\n",
      "  (15, 11)\t1j\n"
     ]
    }
   ],
   "source": [
    "H, V = find_H(4, 4, 1)\n",
    "print(H)\n",
    "print(\"==========================================\")\n",
    "print(V)"
   ]
  },
  {
   "cell_type": "code",
   "execution_count": 5,
   "metadata": {},
   "outputs": [
    {
     "data": {
      "image/png": "[encoded data removed]",
      "text/plain": [
       "<matplotlib.figure.Figure at 0x1c288e07080>"
      ]
     },
     "metadata": {},
     "output_type": "display_data"
    }
   ],
   "source": [
    "plt.spy(H, markersize = 2)\n",
    "plt.show()"
   ]
  },
  {
   "cell_type": "code",
   "execution_count": 6,
   "metadata": {},
   "outputs": [
    {
     "data": {
      "image/png": "[encoded data removed]",
      "text/plain": [
       "<matplotlib.figure.Figure at 0x1c28a5f8518>"
      ]
     },
     "metadata": {},
     "output_type": "display_data"
    }
   ],
   "source": [
    "plt.spy(V, markersize = 2)\n",
    "plt.show()"
   ]
  },
  {
   "cell_type": "markdown",
   "metadata": {},
   "source": [
    "## 5. Create a random state\n",
    "* In all the LSQT methods, the first crucial step is to use random vector approximation for evaluating the trace of a matrix.\n",
    "* We use random phase vector, whose elements can be written as $e^{i\\theta}=\\cos(\\theta)+i\\sin(\\theta)$, where $\\theta$ is a random number within $[0, 2\\pi]$."
   ]
  },
  {
   "cell_type": "markdown",
   "metadata": {},
   "source": [
    "### 5.1 Define the function"
   ]
  },
  {
   "cell_type": "code",
   "execution_count": 7,
   "metadata": {
    "collapsed": true
   },
   "outputs": [],
   "source": [
    "def create_state(N):\n",
    "    \"\"\"\n",
    "    Function to construct a complex random vector\n",
    "    Args:\n",
    "        N (int): Length of the vector\n",
    "    Returns:\n",
    "        phi (complex ndarray): The random vector\n",
    "    \"\"\"\n",
    "    random_phase = np.random.uniform(0, 2 * np.pi, N)\n",
    "    phi = np.cos(random_phase) + np.sin(random_phase) * 1j; \n",
    "    phi = phi / np.linalg.norm(phi);\n",
    "    return phi"
   ]
  },
  {
   "cell_type": "markdown",
   "metadata": {},
   "source": [
    "### 5.2 Check the function\n",
    "1. We see that the vector is complex and is correctely normalized to 1"
   ]
  },
  {
   "cell_type": "code",
   "execution_count": 24,
   "metadata": {},
   "outputs": [
    {
     "name": "stdout",
     "output_type": "stream",
     "text": [
      "phi = \n",
      "[-0.30401535-0.08703257j -0.31124759+0.05590111j  0.21777503+0.22929028j\n",
      " -0.26750446+0.16864567j -0.08969327+0.30324102j  0.03428133+0.3143641j\n",
      "  0.18015610+0.25989186j -0.31530946-0.02408203j  0.12244135+0.29156151j\n",
      " -0.04371410-0.31319176j]\n",
      "norm(phi) = \n",
      "1.0\n"
     ]
    }
   ],
   "source": [
    "phi = create_state(10)\n",
    "print(\"phi = \")\n",
    "print(phi)\n",
    "print(\"norm(phi) = \")\n",
    "print(np.linalg.norm(phi)) # should be 1"
   ]
  },
  {
   "cell_type": "markdown",
   "metadata": {},
   "source": [
    "## 6. Calculate the Chebyshev moments\n",
    "1. The chebyshev moments $C_m$ of the DOS, VAC, and MSD can be uniformly expresseed as\n",
    "$$\n",
    "C_m = \\langle \\phi_L| T_m(\\tilde{H}) | \\phi_R \\rangle,\n",
    "$$\n",
    "where $\\tilde{H}$ is the scaled Hamiltonian and $T_m$ is the $m$-th order Chebyshev polynomial of the first kind.\n",
    "2. The differences between the above three quantities are reflected by the different left and right vectors, $\\phi_L$ and $\\phi_R$.\n",
    "3. See Algorithm 4 in the review paper."
   ]
  },
  {
   "cell_type": "markdown",
   "metadata": {},
   "source": [
    "### 6.1. Define the function\n",
    "* There is no simple way to test this function. So we will continue to write other functions."
   ]
  },
  {
   "cell_type": "code",
   "execution_count": 33,
   "metadata": {
    "collapsed": true
   },
   "outputs": [],
   "source": [
    "def find_moments(M, H_scaled, phi_left, phi_right):\n",
    "    \"\"\"\n",
    "    Calculate the Chebyshev moments\n",
    "    Inputs:\n",
    "        M         (int):               Number of Chebyshev moments\n",
    "        phi_left  (complex ndarray):   The left vector\n",
    "        phi_right (complex ndarray):   The right vector\n",
    "        H_scaled  (sparse.csr_matrix): Scaled (sparse) Hamiltonian\n",
    "    Outputs:\n",
    "        C         (real ndarray):      The Chebyshev moments\n",
    "    \"\"\"   \n",
    "    C = np.zeros(M)\n",
    "    phi_0 = phi_right\n",
    "    C[0] = np.vdot(phi_left, phi_0)\n",
    "    phi_1 = H_scaled.dot(phi_0)\n",
    "    C[1] = np.vdot(phi_left, phi_1)\n",
    "    for m in range(2, M):\n",
    "        phi_2 = 2.0 * H_scaled.dot(phi_1) - phi_0\n",
    "        C[m] = np.vdot(phi_left, phi_2)\n",
    "        phi_0 = phi_1\n",
    "        phi_1 = phi_2\n",
    "    C = C.real\n",
    "    return C"
   ]
  },
  {
   "cell_type": "markdown",
   "metadata": {},
   "source": [
    "## 7. Calculate the Chebyshev summation\n",
    "1. The chebyshev summation gives the final results:\n",
    "  * DOS: Equation (94) in the review paper\n",
    "  * DOS times VAC: Equation (100) in the review paper\n",
    "  * DOS times MSD: Equation (102) in the review paper"
   ]
  },
  {
   "cell_type": "markdown",
   "metadata": {},
   "source": [
    "### 7.1 The damping factor\n",
    "1. We only consider the Jackson damping factor.\n",
    "2. One can compare the figure to that in Fig. 3 of the review paper."
   ]
  },
  {
   "cell_type": "code",
   "execution_count": 34,
   "metadata": {
    "collapsed": true
   },
   "outputs": [],
   "source": [
    "def jackson_damping(M):\n",
    "    \"\"\"\n",
    "    Calculate the Jackson damping factor\n",
    "    Inputs:\n",
    "        M (int):           Number of Chebyshev moments\n",
    "    Outputs:\n",
    "        g (real ndarray):  The Jackson damping factor\n",
    "    \"\"\"\n",
    "    m = np.arange(M)\n",
    "    a = 1.0 / (M + 1.0)\n",
    "    g = (1.0 - m * a) * np.cos(np.pi * m * a)\n",
    "    g += a * np.sin(np.pi * m * a) / np.tan(np.pi * a)\n",
    "    return g"
   ]
  },
  {
   "cell_type": "code",
   "execution_count": 37,
   "metadata": {},
   "outputs": [
    {
     "data": {
      "image/png": "[encoded data removed]",
      "text/plain": [
       "<matplotlib.figure.Figure at 0x1c28a74bdd8>"
      ]
     },
     "metadata": {},
     "output_type": "display_data"
    }
   ],
   "source": [
    "M = 10000\n",
    "plt.plot(np.arange(M), jackson_damping(M))\n",
    "plt.show()"
   ]
  },
  {
   "cell_type": "code",
   "execution_count": null,
   "metadata": {
    "collapsed": true
   },
   "outputs": [],
   "source": []
  }
 ],
 "metadata": {
  "kernelspec": {
   "display_name": "Python 3",
   "language": "python",
   "name": "python3"
  },
  "language_info": {
   "codemirror_mode": {
    "name": "ipython",
    "version": 3
   },
   "file_extension": ".py",
   "mimetype": "text/x-python",
   "name": "python",
   "nbconvert_exporter": "python",
   "pygments_lexer": "ipython3",
   "version": "3.6.3"
  }
 },
 "nbformat": 4,
 "nbformat_minor": 2
}
